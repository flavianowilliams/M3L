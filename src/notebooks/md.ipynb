{
 "cells": [
  {
   "cell_type": "markdown",
   "metadata": {},
   "source": [
    "# Neste notebook faremos a simulação por dinâmica molecular do gás argônio superfluido à 100 K e 1000 atm."
   ]
  },
  {
   "cell_type": "markdown",
   "metadata": {},
   "source": [
    "## Etapa 1\n",
    "O primeiro passo consiste na instalação do pacote que será responsável pela dinâmica molecular. Descomente a linha abaixo caso o pacote M3L ainda não foi instalado no seu ambiente virtual python numa versão superior à 3.11."
   ]
  },
  {
   "cell_type": "code",
   "execution_count": 1,
   "metadata": {},
   "outputs": [],
   "source": [
    "#pip install -i https://test.pypi.org/simple/ m3l==2025.4.dev6 --extra-index-url https://pypi.org/simple/"
   ]
  },
  {
   "cell_type": "markdown",
   "metadata": {},
   "source": [
    "## Etapa 2\n",
    "O segundo passo consiste no carregamento do sistema físico contendo as coordenadas atômicas e suas propriedades termodinâmicas."
   ]
  },
  {
   "cell_type": "code",
   "execution_count": 2,
   "metadata": {},
   "outputs": [],
   "source": [
    "# download do arquivo 'Ar_100K_1000atm.json'\n",
    "url = 'https://raw.githubusercontent.com/flavianowilliams/M3L/development/src/notebooks/Ar_100K_1000atm.json'\n",
    "from urllib.request import urlopen\n",
    "#\n",
    "#file = urlopen(url)\n",
    "#\n",
    "#with open('Ar_100K_1000atm.json','wb') as output:\n",
    "#  output.write(file.read())"
   ]
  },
  {
   "cell_type": "code",
   "execution_count": 3,
   "metadata": {},
   "outputs": [],
   "source": [
    "# carregando sistema físico\n",
    "from m3l.structure import System as sys\n",
    "import json\n",
    "#\n",
    "system = sys()\n",
    "system.loadSystem('Ar_100K_1000atm.json')\n",
    "#\n",
    "# convertendo as unidades de medida\n",
    "system.convertUnits()"
   ]
  },
  {
   "cell_type": "markdown",
   "metadata": {},
   "source": [
    "## Etapa 3\n",
    "O terceiro passo consiste em definir o modelo para o campo de força."
   ]
  },
  {
   "cell_type": "code",
   "execution_count": 4,
   "metadata": {},
   "outputs": [],
   "source": [
    "# definindo o modelo de interação entre os átomos (campo de força)\n",
    "from m3l.molecular_dynamics import ForceField\n",
    "class Forces(ForceField):\n",
    "    def __init__(self):\n",
    "        super().__init__()\n",
    "        self.van_der_waals(\n",
    "            (1, 0.2381*self.ECONV, 3.405*self.ACONV)\n",
    "        )\n",
    "#        \n",
    "model = Forces()"
   ]
  },
  {
   "cell_type": "markdown",
   "metadata": {},
   "source": [
    "## Etapa 4\n",
    "O quarto passo consiste em definir o modelo estatístico (ensemble canônico) que descreverá o sistema no equilíbrio termodinâmico."
   ]
  },
  {
   "cell_type": "code",
   "execution_count": 5,
   "metadata": {
    "scrolled": true
   },
   "outputs": [],
   "source": [
    "# definindo o modelo estatístico (ensemble)\n",
    "from m3l.molecular_dynamics import Ensemble as en\n",
    "#\n",
    "force_field = model()\n",
    "ensemble = en(temp_bath = 100.0, press_bath = 1000.0, timestep = 1.0e-4, force_field = force_field, tstat = 1.0, pstat = 1.0, bfactor = 4.9e-5)"
   ]
  },
  {
   "cell_type": "markdown",
   "metadata": {},
   "source": [
    "## Etapa 5\n",
    "O quinto passo consiste na dinâmica molecular realizada em looping dentro de uma quantidade definida de passos."
   ]
  },
  {
   "cell_type": "code",
   "execution_count": 6,
   "metadata": {
    "scrolled": true
   },
   "outputs": [
    {
     "name": "stdout",
     "output_type": "stream",
     "text": [
      "Elapsed time: 2.0 seconds\n"
     ]
    }
   ],
   "source": [
    "import time\n",
    "#\n",
    "# executando looping\n",
    "n_steps = 1000\n",
    "i_step = 0\n",
    "start = time.time()\n",
    "for step in range(n_steps):\n",
    "    system = ensemble(system)\n",
    "end = time.time()\n",
    "print(f'Elapsed time: {round(end - start, 0)} seconds')"
   ]
  },
  {
   "cell_type": "markdown",
   "metadata": {},
   "source": [
    "## Etapa 6\n",
    "O sexto e último passo o autor poderá salvar em um arquivo JSON o sistema físico obtido no final da simulação."
   ]
  },
  {
   "cell_type": "code",
   "execution_count": 7,
   "metadata": {},
   "outputs": [],
   "source": [
    "# convertendo para as unidades de medida de entrada\n",
    "system.convertUnitsInv()\n",
    "#\n",
    "# salvando sistema em arquivo JSON\n",
    "system.save('system_new.json')"
   ]
  },
  {
   "cell_type": "code",
   "execution_count": 8,
   "metadata": {},
   "outputs": [
    {
     "data": {
      "text/plain": [
       "np.float64(96.94657711021149)"
      ]
     },
     "execution_count": 8,
     "metadata": {},
     "output_type": "execute_result"
    }
   ],
   "source": [
    "system.temperature"
   ]
  }
 ],
 "metadata": {
  "kernelspec": {
   "display_name": "Python 3 (ipykernel)",
   "language": "python",
   "name": "python3"
  },
  "language_info": {
   "codemirror_mode": {
    "name": "ipython",
    "version": 3
   },
   "file_extension": ".py",
   "mimetype": "text/x-python",
   "name": "python",
   "nbconvert_exporter": "python",
   "pygments_lexer": "ipython3",
   "version": "3.13.2"
  }
 },
 "nbformat": 4,
 "nbformat_minor": 4
}

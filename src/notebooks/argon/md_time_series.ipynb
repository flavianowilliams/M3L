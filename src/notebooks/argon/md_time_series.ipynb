{
 "cells": [
  {
   "cell_type": "markdown",
   "metadata": {},
   "source": [
    "# Neste notebook faremos a simulação por dinâmica molecular do gás argônio superfluido à 94 K e 1 atm."
   ]
  },
  {
   "cell_type": "markdown",
   "metadata": {},
   "source": [
    "Antes de dar início à simulação, deveremos instalar o pacote M3L responsável pela dinâmica molecular. Descomente a linha abaixo caso ele ainda não foi instalado no seu ambiente virtual."
   ]
  },
  {
   "cell_type": "code",
   "execution_count": 1,
   "metadata": {},
   "outputs": [],
   "source": [
    "#pip install -i https://test.pypi.org/simple/ m3l --extra-index-url https://pypi.org/simple/"
   ]
  },
  {
   "cell_type": "markdown",
   "metadata": {},
   "source": [
    "## Etapa 1\n",
    "O primeiro passo consiste em definirmos o sistema físico contendo as coordenadas atômicas. Descomente as cinco primeiras linhas abaixo para fazer o download do arquivo \"Ar_94K_1atm.json\"."
   ]
  },
  {
   "cell_type": "code",
   "execution_count": 2,
   "metadata": {},
   "outputs": [],
   "source": [
    "#url = 'https://raw.githubusercontent.com/flavianowilliams/M3L/development/src/notebooks/argon/Ar_94K_1atm.json'\n",
    "#from urllib.request import urlopen\n",
    "#file = urlopen(url)\n",
    "#with open('Ar_94K_1atm.json','wb') as output:\n",
    "#  output.write(file.read())\n",
    "#\n",
    "# carregando sistema físico\n",
    "from m3l.structure import System as sys\n",
    "import json\n",
    "#\n",
    "system = sys()\n",
    "system.loadSystem('Ar_94K_1atm.json')\n",
    "#\n",
    "# convertendo as unidades de medida\n",
    "system.convertUnits()"
   ]
  },
  {
   "cell_type": "markdown",
   "metadata": {},
   "source": [
    "## Etapa 2\n",
    "O segundo passo consiste em definirmos o modelo para o campo de força. Neste caso consideraremos uma molécula contendo apenas um sítio atômico com interações intermoleculares do tipo Van der Waals representado pela função Lennard-Jones de dois parâmetros, como mostra a figura abaixo.\n",
    "![lennard-jones](../contrib/lennard-jones.jpg)"
   ]
  },
  {
   "cell_type": "code",
   "execution_count": 3,
   "metadata": {},
   "outputs": [
    {
     "data": {
      "text/plain": [
       "array([[0.00000000e+00, 0.00000000e+00, 0.00000000e+00, 0.00000000e+00],\n",
       "       [1.00000000e+00, 0.00000000e+00, 3.80200013e-04, 6.42506883e+00]])"
      ]
     },
     "execution_count": 3,
     "metadata": {},
     "output_type": "execute_result"
    }
   ],
   "source": [
    "# Etapa 2\n",
    "# definindo o modelo de interação entre os átomos (campo de força)      \n",
    "import m3l.force_field as ff\n",
    "from m3l.force_field import Intermolecular as interff\n",
    "class Forces(ff.ForceField):\n",
    "    def __init__(self):\n",
    "        super().__init__()\n",
    "        self.structure(\n",
    "            self.molecule(\n",
    "                interff.site(1, 0.0, 0.2385, 3.4), #site ID, atomic charge, Lennard-Jones parameters\n",
    "            )\n",
    "        )\n",
    "#        \n",
    "model = Forces()\n",
    "model()"
   ]
  },
  {
   "cell_type": "markdown",
   "metadata": {},
   "source": [
    "## Etapa 3\n",
    "O terceiro passo consiste em definir o modelo estatístico (ensemble canônico) que descreverá o sistema no equilíbrio termodinâmico."
   ]
  },
  {
   "cell_type": "code",
   "execution_count": 4,
   "metadata": {
    "scrolled": true
   },
   "outputs": [],
   "source": [
    "# Etapa 3\n",
    "# definindo o modelo estatístico (ensemble)\n",
    "from m3l.molecular_dynamics import Ensemble as en\n",
    "#\n",
    "force_field = model()\n",
    "ensemble = en(temp_bath = 94.4, press_bath = 1.0, timestep = 1.0e-3, force_field = force_field, pstat = 2.5)\n",
    "system = ensemble(system)"
   ]
  },
  {
   "cell_type": "markdown",
   "metadata": {},
   "source": [
    "## Etapa 4\n",
    "O quarto passo consiste na dinâmica molecular, onde as coordenadas atômicas são recalculadas a cada passo da simulação em intervalos de tempo denominado de timestep. Opcionalmente o autor poderá registrar valores obtidos na simulação em arquivos de saída no formato csv."
   ]
  },
  {
   "cell_type": "code",
   "execution_count": 5,
   "metadata": {
    "scrolled": true
   },
   "outputs": [
    {
     "name": "stdout",
     "output_type": "stream",
     "text": [
      "Elapsed time: 268.3249650001526 seconds\n"
     ]
    }
   ],
   "source": [
    "# Etapa 4\n",
    "# executando ciclo MD\n",
    "import time\n",
    "import csv\n",
    "import numpy as np\n",
    "#\n",
    "n_steps = 100000\n",
    "i_step = 0\n",
    "start = time.time()\n",
    "with open('history.csv', 'w', newline = '') as csvfile1, open('thermodynamics.csv', 'w', newline = '') as csvfile2:\n",
    "    fieldnames1 = ['time', 'mass', 'x', 'y', 'z']\n",
    "    writer1 = csv.DictWriter(csvfile1, fieldnames = fieldnames1)\n",
    "    writer1.writeheader()\n",
    "    fieldnames2 = ['time', 'volume', 'temperature', 'epotential', 'pressure']\n",
    "    writer2 = csv.DictWriter(csvfile2, fieldnames = fieldnames2)\n",
    "    writer2.writeheader()\n",
    "    for step in range(n_steps):\n",
    "        system = ensemble(system)\n",
    "        if step%100 == 0:\n",
    "            i_step += 1\n",
    "            writer2.writerow({\n",
    "                'time': ensemble.dtimestep*step/system.TIMECONV, \n",
    "                'volume': system.volume/system.ACONV**3,\n",
    "                'temperature': system.temperature/system.TEMPCONV,\n",
    "                'epotential': system.epotential/system.ECONV,\n",
    "                'pressure': system.pressure/system.PCONV})\n",
    "            for i, atom in enumerate(system.mat):\n",
    "                writer1.writerow({\n",
    "                    'time': ensemble.dtimestep*step/system.TIMECONV,\n",
    "                    'mass': atom,\n",
    "                    'x': system.rx[i]/system.ACONV,\n",
    "                    'y': system.ry[i]/system.ACONV,\n",
    "                    'z': system.rz[i]/system.ACONV})\n",
    "           #print(f'Step: {i_step}; Energy: {system.epotential*system.ECONV}')\n",
    "\n",
    "end = time.time()\n",
    "print(f'Elapsed time: {end - start} seconds')"
   ]
  },
  {
   "cell_type": "markdown",
   "metadata": {},
   "source": [
    "## Etapa 5\n",
    "Esta etapa é opcional, onde o autor poderá salvar em um arquivo JSON o sistema físico obtido no final da simulação. Como opção, o autor poderá converter as unidades de medida em valores mais convenientes para a leitura e melhor interpretação do ponto de vista didático."
   ]
  },
  {
   "cell_type": "code",
   "execution_count": 6,
   "metadata": {},
   "outputs": [
    {
     "ename": "AttributeError",
     "evalue": "'System' object has no attribute 'molecules'",
     "output_type": "error",
     "traceback": [
      "\u001b[0;31m---------------------------------------------------------------------------\u001b[0m",
      "\u001b[0;31mAttributeError\u001b[0m                            Traceback (most recent call last)",
      "Cell \u001b[0;32mIn[6], line 6\u001b[0m\n\u001b[1;32m      3\u001b[0m system\u001b[38;5;241m.\u001b[39mconvertUnitsInv()\n\u001b[1;32m      4\u001b[0m \u001b[38;5;66;03m#\u001b[39;00m\n\u001b[1;32m      5\u001b[0m \u001b[38;5;66;03m# salvando sistema em arquivo JSON\u001b[39;00m\n\u001b[0;32m----> 6\u001b[0m \u001b[43msystem\u001b[49m\u001b[38;5;241;43m.\u001b[39;49m\u001b[43msave\u001b[49m\u001b[43m(\u001b[49m\u001b[38;5;124;43m'\u001b[39;49m\u001b[38;5;124;43mAr_94K_1atm.json\u001b[39;49m\u001b[38;5;124;43m'\u001b[39;49m\u001b[43m)\u001b[49m\n",
      "File \u001b[0;32m~/.pyenv/versions/Notebooks/lib/python3.13/site-packages/m3l/structure.py:420\u001b[0m, in \u001b[0;36mSystem.save\u001b[0;34m(self, filename)\u001b[0m\n\u001b[1;32m    391\u001b[0m \u001b[38;5;28;01mfor\u001b[39;00m i \u001b[38;5;129;01min\u001b[39;00m \u001b[38;5;28mrange\u001b[39m(\u001b[38;5;241m1\u001b[39m, \u001b[38;5;28mlen\u001b[39m(\u001b[38;5;28mself\u001b[39m\u001b[38;5;241m.\u001b[39mmat)):\n\u001b[1;32m    393\u001b[0m     atoms \u001b[38;5;241m=\u001b[39m np\u001b[38;5;241m.\u001b[39mappend(atoms, [[\n\u001b[1;32m    394\u001b[0m         \u001b[38;5;28mself\u001b[39m\u001b[38;5;241m.\u001b[39matp[i],\n\u001b[1;32m    395\u001b[0m         \u001b[38;5;28mself\u001b[39m\u001b[38;5;241m.\u001b[39mmat[i],\n\u001b[0;32m   (...)\u001b[0m\n\u001b[1;32m    406\u001b[0m         \u001b[38;5;28mself\u001b[39m\u001b[38;5;241m.\u001b[39mea[i]\n\u001b[1;32m    407\u001b[0m         ]], axis \u001b[38;5;241m=\u001b[39m \u001b[38;5;241m0\u001b[39m)\n\u001b[1;32m    409\u001b[0m dictfile \u001b[38;5;241m=\u001b[39m {\n\u001b[1;32m    410\u001b[0m         \u001b[38;5;124m'\u001b[39m\u001b[38;5;124mdescription\u001b[39m\u001b[38;5;124m'\u001b[39m: \u001b[38;5;28mself\u001b[39m\u001b[38;5;241m.\u001b[39mdescription,\n\u001b[1;32m    411\u001b[0m         \u001b[38;5;124m'\u001b[39m\u001b[38;5;124mcell\u001b[39m\u001b[38;5;124m'\u001b[39m: \u001b[38;5;28mself\u001b[39m\u001b[38;5;241m.\u001b[39mcell\u001b[38;5;241m.\u001b[39mtolist(),\n\u001b[1;32m    412\u001b[0m         \u001b[38;5;124m'\u001b[39m\u001b[38;5;124mthermodynamic\u001b[39m\u001b[38;5;124m'\u001b[39m: [\n\u001b[1;32m    413\u001b[0m             \u001b[38;5;28mself\u001b[39m\u001b[38;5;241m.\u001b[39mtemperature\u001b[38;5;241m.\u001b[39mitem(),\n\u001b[1;32m    414\u001b[0m             \u001b[38;5;28mself\u001b[39m\u001b[38;5;241m.\u001b[39mtemp_friction\u001b[38;5;241m.\u001b[39mitem(),\n\u001b[1;32m    415\u001b[0m             \u001b[38;5;28mself\u001b[39m\u001b[38;5;241m.\u001b[39mpressure\u001b[38;5;241m.\u001b[39mitem(),\n\u001b[1;32m    416\u001b[0m             \u001b[38;5;28mself\u001b[39m\u001b[38;5;241m.\u001b[39mpress_friction\u001b[38;5;241m.\u001b[39mitem(),\n\u001b[1;32m    417\u001b[0m             \u001b[38;5;28mself\u001b[39m\u001b[38;5;241m.\u001b[39mepotential\u001b[38;5;241m.\u001b[39mitem(),\n\u001b[1;32m    418\u001b[0m             \u001b[38;5;28mself\u001b[39m\u001b[38;5;241m.\u001b[39mekinetic\u001b[38;5;241m.\u001b[39mitem()\n\u001b[1;32m    419\u001b[0m             ],\n\u001b[0;32m--> 420\u001b[0m         \u001b[38;5;124m'\u001b[39m\u001b[38;5;124mmolecules\u001b[39m\u001b[38;5;124m'\u001b[39m: \u001b[38;5;28;43mself\u001b[39;49m\u001b[38;5;241;43m.\u001b[39;49m\u001b[43mmolecules\u001b[49m\u001b[38;5;241m.\u001b[39mtolist(),\n\u001b[1;32m    421\u001b[0m         \u001b[38;5;124m'\u001b[39m\u001b[38;5;124matoms\u001b[39m\u001b[38;5;124m'\u001b[39m: atoms\u001b[38;5;241m.\u001b[39mtolist()\n\u001b[1;32m    422\u001b[0m         }\n\u001b[1;32m    424\u001b[0m outfile \u001b[38;5;241m=\u001b[39m json\u001b[38;5;241m.\u001b[39mdumps(dictfile, indent \u001b[38;5;241m=\u001b[39m \u001b[38;5;241m1\u001b[39m)\n\u001b[1;32m    425\u001b[0m \u001b[38;5;28;01mwith\u001b[39;00m \u001b[38;5;28mopen\u001b[39m(filename, \u001b[38;5;124m'\u001b[39m\u001b[38;5;124mw\u001b[39m\u001b[38;5;124m'\u001b[39m) \u001b[38;5;28;01mas\u001b[39;00m file:\n",
      "\u001b[0;31mAttributeError\u001b[0m: 'System' object has no attribute 'molecules'"
     ]
    }
   ],
   "source": [
    "# Etapa opcional\n",
    "# convertendo para as unidades de medida de entrada\n",
    "system.convertUnitsInv()\n",
    "#\n",
    "# salvando sistema em arquivo JSON\n",
    "system.save('Ar_94K_1atm.json')"
   ]
  },
  {
   "cell_type": "markdown",
   "metadata": {},
   "source": [
    "## Etapa 6\n",
    "Esta etapa é opcional, onde o autor poderá gerar gráficos das propriedades e analisar a sua evolução no tempo."
   ]
  },
  {
   "cell_type": "code",
   "execution_count": null,
   "metadata": {},
   "outputs": [],
   "source": [
    "# Etapa opcional\n",
    "# Gráfico de séries temporais de algumas variáveis termodinâmicas\n",
    "import matplotlib.pyplot as plt\n",
    "import numpy as np\n",
    "dataset = np.loadtxt(\"thermodynamics.csv\", dtype=np.float32, delimiter = \",\", skiprows=1)\n",
    "time = [item[0].item() for item in dataset]\n",
    "vol = [item[1].item() for item in dataset]\n",
    "temp = [item[2].item() for item in dataset]\n",
    "epot = [item[3].item() for item in dataset]\n",
    "press = [item[4].item() for item in dataset]\n",
    "#plt.plot(time, temp)\n",
    "fig, axs = plt.subplots(2, 2)\n",
    "# volume\n",
    "axs[0, 0].plot(time, vol)\n",
    "axs[0, 0].set_title(r\"Volume $\\AA^3$\")\n",
    "yp = round(sum(vol)/len(vol), 0)\n",
    "axs[0, 0].axhline(y = yp, color = 'red')\n",
    "axs[0, 0].annotate(text = yp, xy = (0, yp), xytext = (-30, yp+5), color = 'r')\n",
    "# temperatura\n",
    "axs[0, 1].plot(time, temp)\n",
    "axs[0, 1].set_title(\"Temperatura (K)\")\n",
    "yp = round(sum(temp)/len(temp), 0)\n",
    "axs[0, 1].axhline(y = yp, color = 'red')\n",
    "axs[0, 1].annotate(text = yp, xy = (0, yp), xytext = (-30, yp), color = 'r')\n",
    "# Energia potencial\n",
    "axs[1, 0].plot(time, epot)\n",
    "axs[1, 0].set_title(\"Energia Potencial (kcal/mol)\")\n",
    "yp = round(sum(epot)/len(epot), 0)\n",
    "axs[1, 0].axhline(y = yp, color = 'red')\n",
    "axs[1, 0].annotate(text = yp, xy = (0, yp), xytext = (-30, yp), color = 'r')\n",
    "# pressão\n",
    "axs[1, 1].plot(time, press)\n",
    "axs[1, 1].set_title(\"Pressão (atm)\")\n",
    "yp = round(sum(press)/len(press), 0)\n",
    "axs[1, 1].axhline(y = yp, color = 'red')\n",
    "axs[1, 1].annotate(text = yp, xy = (0, yp), xytext = (-30, yp), color = 'r')\n",
    "#\n",
    "fig.tight_layout()\n",
    "for ax in axs.flat:\n",
    "    ax.set(xlabel='Tempo (ps)')\n",
    "\n",
    "# Hide x labels and tick labels for top plots and y ticks for right plots.\n",
    "#for ax in axs.flat:\n",
    "#    ax.label_outer()\n",
    "fig.subplots_adjust(hspace = 0.5)\n",
    "plt.savefig(\"MD.jpg\")"
   ]
  }
 ],
 "metadata": {
  "kernelspec": {
   "display_name": "Python 3 (ipykernel)",
   "language": "python",
   "name": "python3"
  },
  "language_info": {
   "codemirror_mode": {
    "name": "ipython",
    "version": 3
   },
   "file_extension": ".py",
   "mimetype": "text/x-python",
   "name": "python",
   "nbconvert_exporter": "python",
   "pygments_lexer": "ipython3",
   "version": "3.13.3"
  }
 },
 "nbformat": 4,
 "nbformat_minor": 4
}

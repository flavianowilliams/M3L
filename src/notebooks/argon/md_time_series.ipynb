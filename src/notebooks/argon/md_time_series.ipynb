{
 "cells": [
  {
   "cell_type": "markdown",
   "metadata": {},
   "source": [
    "# Neste notebook faremos a simulação por dinâmica molecular do gás argônio superfluido à 100 K e 1000 atm."
   ]
  },
  {
   "cell_type": "markdown",
   "metadata": {},
   "source": [
    "# Etapa 1\n",
    "O primeiro passo consiste na instalação do pacote que será responsável pela dinâmica molecular. Descomente a linha abaixo caso o pacote M3L ainda não foi instalado no seu ambiente virtual python."
   ]
  },
  {
   "cell_type": "code",
   "execution_count": 1,
   "metadata": {},
   "outputs": [],
   "source": [
    "#pip install -i https://test.pypi.org/simple/ m3l --extra-index-url https://pypi.org/simple/"
   ]
  },
  {
   "cell_type": "markdown",
   "metadata": {},
   "source": [
    "## Etapa 2\n",
    "O segundo passo consiste no carregamento do sistema físico contendo as coordenadas atômicas e suas propriedades termodinâmicas."
   ]
  },
  {
   "cell_type": "code",
   "execution_count": 1,
   "metadata": {},
   "outputs": [],
   "source": [
    "# download do arquivo 'Ar_100K_1000atm.json'\n",
    "#url = 'https://raw.githubusercontent.com/flavianowilliams/M3L/development/src/notebooks/argon/Ar_100K_1000atm.json'\n",
    "#from urllib.request import urlopen\n",
    "#\n",
    "#file = urlopen(url)\n",
    "#\n",
    "#with open('Ar_100K_1000atm.json','wb') as output:\n",
    "#  output.write(file.read())\n",
    "#\n",
    "# carregando sistema físico\n",
    "from m3l.structure import System as sys\n",
    "import json\n",
    "#\n",
    "system = sys()\n",
    "system.loadSystem('system_new.json')\n",
    "#\n",
    "# convertendo as unidades de medida\n",
    "system.convertUnits()"
   ]
  },
  {
   "cell_type": "markdown",
   "metadata": {},
   "source": [
    "## Etapa 3\n",
    "O terceiro passo consiste em definir o modelo para o campo de força."
   ]
  },
  {
   "cell_type": "code",
   "execution_count": 2,
   "metadata": {},
   "outputs": [
    {
     "data": {
      "text/plain": [
       "array([[1.00000000e+00, 0.00000000e+00, 3.79562361e-04, 6.43451746e+00],\n",
       "       [2.00000000e+00, 0.00000000e+00, 3.79562361e-04, 6.43451746e+00]])"
      ]
     },
     "execution_count": 2,
     "metadata": {},
     "output_type": "execute_result"
    }
   ],
   "source": [
    "# definindo o modelo de interação entre os átomos (campo de força)\n",
    "import m3l.force_field as ff\n",
    "from m3l.force_field import Intermolecular as interff\n",
    "class Forces(ff.ForceField):\n",
    "    def __init__(self):\n",
    "        super().__init__()\n",
    "        self.potential(\n",
    "            interff.site(2, 0.0, 0.2381*self.ECONV, 3.405*self.ACONV),\n",
    "            interff.site(1, 0.0, 0.2381*self.ECONV, 3.405*self.ACONV),\n",
    "        )\n",
    "#        \n",
    "model = Forces()\n",
    "model()"
   ]
  },
  {
   "cell_type": "markdown",
   "metadata": {},
   "source": [
    "## Etapa 4\n",
    "O quarto passo consiste em definir o modelo estatístico (ensemble canônico) que descreverá o sistema no equilíbrio termodinâmico."
   ]
  },
  {
   "cell_type": "code",
   "execution_count": null,
   "metadata": {
    "scrolled": true
   },
   "outputs": [],
   "source": [
    "# definindo o modelo estatístico (ensemble)\n",
    "from m3l.molecular_dynamics import Ensemble as en\n",
    "#\n",
    "force_field = model()\n",
    "ensemble = en(temp_bath = 100.0, press_bath = 1000.0, timestep = 1.0e-3, force_field = force_field, tstat = 1.0, pstat = 1.0, bfactor = 4.9e-5)\n",
    "system = ensemble(system)"
   ]
  },
  {
   "cell_type": "markdown",
   "metadata": {},
   "source": [
    "## Etapa 5\n",
    "O quinto passo consiste na dinâmica molecular feita a cada passo da simulação."
   ]
  },
  {
   "cell_type": "code",
   "execution_count": null,
   "metadata": {
    "scrolled": true
   },
   "outputs": [],
   "source": [
    "# executando looping\n",
    "import time\n",
    "import csv\n",
    "import numpy as np\n",
    "#\n",
    "n_steps = 100000\n",
    "i_step = 0\n",
    "start = time.time()\n",
    "with open('history.csv', 'w', newline = '') as csvfile1, open('thermodynamics.csv', 'w', newline = '') as csvfile2:\n",
    "    fieldnames1 = ['time', 'mass', 'x', 'y', 'z']\n",
    "    writer1 = csv.DictWriter(csvfile1, fieldnames = fieldnames1)\n",
    "    writer1.writeheader()\n",
    "    fieldnames2 = ['time', 'volume', 'temperature', 'epotential', 'pressure']\n",
    "    writer2 = csv.DictWriter(csvfile2, fieldnames = fieldnames2)\n",
    "    writer2.writeheader()\n",
    "    for step in range(n_steps):\n",
    "        system = ensemble(system)\n",
    "        if step%100 == 0:\n",
    "            i_step += 1\n",
    "            writer2.writerow({\n",
    "                'time': ensemble.dtimestep*step/system.TIMECONV, \n",
    "                'volume': np.prod(system.cell)/system.ACONV**3,\n",
    "                'temperature': system.temperature/system.TEMPCONV,\n",
    "                'epotential': system.epotential/system.ECONV,\n",
    "                'pressure': system.pressure/system.PCONV})\n",
    "            for i, atom in enumerate(system.mat):\n",
    "                writer1.writerow({\n",
    "                    'time': ensemble.dtimestep*step/system.TIMECONV,\n",
    "                    'mass': atom,\n",
    "                    'x': system.rx[i]/system.ACONV,\n",
    "                    'y': system.ry[i]/system.ACONV,\n",
    "                    'z': system.rz[i]/system.ACONV})\n",
    "           #print(f'Step: {i_step}; Energy: {system.epotential*system.ECONV}')\n",
    "\n",
    "end = time.time()\n",
    "print(f'Elapsed time: {end - start} seconds')"
   ]
  },
  {
   "cell_type": "markdown",
   "metadata": {},
   "source": [
    "## Etapa 6\n",
    "No sexto e último passo, o autor poderá salvar em um arquivo JSON o sistema físico obtido no final da simulação."
   ]
  },
  {
   "cell_type": "code",
   "execution_count": null,
   "metadata": {},
   "outputs": [],
   "source": [
    "system.convertUnitsInv()\n",
    "system.save('system_new.json')"
   ]
  },
  {
   "cell_type": "markdown",
   "metadata": {},
   "source": [
    "Opcionalmente, poderemos gravar as propriedades termodinâmicas em arquivos de saída específicas."
   ]
  },
  {
   "cell_type": "code",
   "execution_count": null,
   "metadata": {},
   "outputs": [],
   "source": [
    "import matplotlib.pyplot as plt\n",
    "import numpy as np\n",
    "dataset = np.loadtxt(\"thermodynamics.csv\", dtype=np.float32, delimiter = \",\", skiprows=1)\n",
    "time = [item[0].item() for item in dataset]\n",
    "vol = [item[1].item() for item in dataset]\n",
    "temp = [item[2].item() for item in dataset]\n",
    "epot = [item[3].item() for item in dataset]\n",
    "press = [item[4].item() for item in dataset]\n",
    "#plt.plot(time, temp)\n",
    "fig, axs = plt.subplots(2, 2)\n",
    "# volume\n",
    "axs[0, 0].plot(time, vol)\n",
    "axs[0, 0].set_title(r\"Volume $\\AA^3$\")\n",
    "yp = round(sum(vol)/len(vol), 0)\n",
    "axs[0, 0].axhline(y = yp, color = 'red')\n",
    "axs[0, 0].annotate(text = yp, xy = (0, yp), xytext = (-30, yp+5), color = 'r')\n",
    "# temperatura\n",
    "axs[0, 1].plot(time, temp)\n",
    "axs[0, 1].set_title(\"Temperatura (K)\")\n",
    "yp = round(sum(temp)/len(temp), 0)\n",
    "axs[0, 1].axhline(y = yp, color = 'red')\n",
    "axs[0, 1].annotate(text = yp, xy = (0, yp), xytext = (-30, yp), color = 'r')\n",
    "# Energia potencial\n",
    "axs[1, 0].plot(time, epot)\n",
    "axs[1, 0].set_title(\"Energia Potencial (kcal/mol)\")\n",
    "yp = round(sum(epot)/len(epot), 0)\n",
    "axs[1, 0].axhline(y = yp, color = 'red')\n",
    "axs[1, 0].annotate(text = yp, xy = (0, yp), xytext = (-30, yp), color = 'r')\n",
    "# pressão\n",
    "axs[1, 1].plot(time, press)\n",
    "axs[1, 1].set_title(\"Pressão (atm)\")\n",
    "yp = round(sum(press)/len(press), 0)\n",
    "axs[1, 1].axhline(y = yp, color = 'red')\n",
    "axs[1, 1].annotate(text = yp, xy = (0, yp), xytext = (-30, yp), color = 'r')\n",
    "#\n",
    "fig.tight_layout()\n",
    "for ax in axs.flat:\n",
    "    ax.set(xlabel='Tempo (ps)')\n",
    "\n",
    "# Hide x labels and tick labels for top plots and y ticks for right plots.\n",
    "#for ax in axs.flat:\n",
    "#    ax.label_outer()\n",
    "fig.subplots_adjust(hspace = 0.5)\n",
    "plt.savefig(\"MD.jpg\")"
   ]
  }
 ],
 "metadata": {
  "kernelspec": {
   "display_name": "Python 3 (ipykernel)",
   "language": "python",
   "name": "python3"
  },
  "language_info": {
   "codemirror_mode": {
    "name": "ipython",
    "version": 3
   },
   "file_extension": ".py",
   "mimetype": "text/x-python",
   "name": "python",
   "nbconvert_exporter": "python",
   "pygments_lexer": "ipython3",
   "version": "3.13.2"
  }
 },
 "nbformat": 4,
 "nbformat_minor": 4
}

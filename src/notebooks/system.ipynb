{
 "cells": [
  {
   "cell_type": "code",
   "execution_count": 1,
   "id": "86dff61d-5bf0-40e6-a589-66203d6e4457",
   "metadata": {},
   "outputs": [],
   "source": [
    "# carregando sistema físico\n",
    "#from m3l.structure import System as sys\n",
    "#import json\n",
    "#\n",
    "#system = sys()\n",
    "#system.loadSystem('system_teste.json')\n",
    "#system.convertUnits()\n",
    "#system.convertUnitsInv()\n",
    "#\n",
    "#lista = []\n",
    "#for i in range(len(system.mat)):\n",
    "#    lista.append([system.mat[i].item(), system.atp[i].item(), system.rx[i].item(), system.ry[i].item(), system.rz[i].item()])"
   ]
  },
  {
   "cell_type": "code",
   "execution_count": 2,
   "id": "684dea9e-4b86-4378-861f-13de746c1f13",
   "metadata": {},
   "outputs": [],
   "source": [
    "#with open('teste.xyz', 'w') as file:\n",
    "#    file.write(f'{len(system.atoms)}\\n')\n",
    "#    file.write('XYZ file by json atom coordinates\\n')\n",
    "#    for atom in system.atoms:\n",
    "#        file.write(f'Ar  {atom[1].item()} {atom[2].item()} {atom[3].item()}\\n')"
   ]
  },
  {
   "cell_type": "code",
   "execution_count": 3,
   "id": "a096b12a-0e60-4767-8dd5-7208e6817bcf",
   "metadata": {},
   "outputs": [],
   "source": [
    "#with open('teste.xyz', 'r') as xyz_file:\n",
    "#    natoms = xyz_file.readline()\n",
    "#    natoms = int(natoms)\n",
    "#    xyz_file.readline()\n",
    "#    lista = []\n",
    "#    for i in range(natoms):\n",
    "#        lixo, xl, yl, zl = xyz_file.readline().split()\n",
    "#        lista.append([39.948, 1, float(xl), float(yl), float(zl)])"
   ]
  },
  {
   "cell_type": "code",
   "execution_count": 4,
   "id": "5580bf68-dc8d-45ed-8ac8-84175869b7ee",
   "metadata": {
    "scrolled": true
   },
   "outputs": [],
   "source": [
    "import json\n",
    "with open('system_Ar_250_md.json', 'r') as file:\n",
    "    json_file = json.load(file)\n",
    "    atoms = json_file['atoms']\n",
    "    lista = []\n",
    "    for atom in atoms:\n",
    "        lista.append([39.948, 1, atom[1], atom[2], atom[3]])"
   ]
  },
  {
   "cell_type": "code",
   "execution_count": 5,
   "id": "6c56d3c7-e70e-4a38-ad1c-d8f0b69153e7",
   "metadata": {
    "scrolled": true
   },
   "outputs": [],
   "source": [
    "# definindo do sistema físico\n",
    "from m3l.structure import System as sys\n",
    "import json\n",
    "#\n",
    "system = sys()\n",
    "system.setSystem(temperature = 100, pressure = 1000.0, cell = [24.0, 24.0, 24.0], atoms = lista)\n",
    "#\n",
    "system.save('system_teste.json')"
   ]
  }
 ],
 "metadata": {
  "kernelspec": {
   "display_name": "Python 3 (ipykernel)",
   "language": "python",
   "name": "python3"
  },
  "language_info": {
   "codemirror_mode": {
    "name": "ipython",
    "version": 3
   },
   "file_extension": ".py",
   "mimetype": "text/x-python",
   "name": "python",
   "nbconvert_exporter": "python",
   "pygments_lexer": "ipython3",
   "version": "3.13.2"
  }
 },
 "nbformat": 4,
 "nbformat_minor": 5
}

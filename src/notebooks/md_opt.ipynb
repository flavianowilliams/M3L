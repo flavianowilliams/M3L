{
 "cells": [
  {
   "cell_type": "markdown",
   "metadata": {},
   "source": [
    "# Etapa 1\n",
    "O primeiro passo consiste na instalação do pacote que será responsável pela dinâmica molecular. Descomente a linha abaixo caso o pacote M3L ainda não foi instalado no seu ambiente virtual python."
   ]
  },
  {
   "cell_type": "code",
   "execution_count": null,
   "metadata": {},
   "outputs": [],
   "source": [
    "#pip install -i https://test.pypi.org/simple/ m3l==2025.4.dev6 --extra-index-url https://pypi.org/simple/"
   ]
  },
  {
   "cell_type": "code",
   "execution_count": null,
   "metadata": {},
   "outputs": [],
   "source": [
    "# carregando sistema físico\n",
    "from m3l.structure import System as sys\n",
    "import json\n",
    "#\n",
    "system = sys()\n",
    "system.loadSystem('system_teste.json')\n",
    "system.convertUnits()"
   ]
  },
  {
   "cell_type": "code",
   "execution_count": null,
   "metadata": {},
   "outputs": [],
   "source": [
    "# definindo o modelo de interação entre os átomos (campo de força)\n",
    "from m3l.molecular_dynamics import ForceField\n",
    "class Forces(ForceField):\n",
    "    def __init__(self):\n",
    "        super().__init__()\n",
    "        self.van_der_waals(\n",
    "            (1, 0.2381*self.ECONV, 3.405*self.ACONV)\n",
    "        )\n",
    "#        \n",
    "model = Forces()\n",
    "model()"
   ]
  },
  {
   "cell_type": "code",
   "execution_count": null,
   "metadata": {
    "scrolled": true
   },
   "outputs": [],
   "source": [
    "# definindo o modelo estatístico (ensemble)\n",
    "from m3l.molecular_dynamics import Ensemble as en\n",
    "#\n",
    "force_field = model()\n",
    "ensemble = en(temp_bath = 100.0, press_bath = 1000.0, timestep = 1.0e-4, force_field = force_field, tstat = 1.0, pstat = 1.0, bfactor = 4.9e-5)\n",
    "ensemble(system)"
   ]
  },
  {
   "cell_type": "code",
   "execution_count": null,
   "metadata": {
    "scrolled": true
   },
   "outputs": [],
   "source": [
    "# executando looping\n",
    "import time\n",
    "import csv\n",
    "import numpy as np\n",
    "#\n",
    "n_steps = 100000\n",
    "i_step = 0\n",
    "start = time.time()\n",
    "with open('history.csv', 'w', newline = '') as csvfile1, open('thermodynamics.csv', 'w', newline = '') as csvfile2:\n",
    "    fieldnames1 = ['time', 'mass', 'x', 'y', 'z']\n",
    "    writer1 = csv.DictWriter(csvfile1, fieldnames = fieldnames1)\n",
    "    writer1.writeheader()\n",
    "    fieldnames2 = ['time', 'volume', 'temperature', 'epotential', 'pressure']\n",
    "    writer2 = csv.DictWriter(csvfile2, fieldnames = fieldnames2)\n",
    "    writer2.writeheader()\n",
    "    for step in range(n_steps):\n",
    "        system = ensemble(system)\n",
    "        if step%100 == 0:\n",
    "            i_step += 1\n",
    "            writer2.writerow({\n",
    "                'time': ensemble.dtimestep*step/system.TIMECONV, \n",
    "                'volume': np.prod(system.cell)/system.ACONV**3,\n",
    "                'temperature': system.temperature/system.TEMPCONV,\n",
    "                'epotential': system.epotential/system.ECONV,\n",
    "                'pressure': system.pressure/system.PCONV})\n",
    "            for i, atom in enumerate(system.mat):\n",
    "                writer1.writerow({\n",
    "                    'time': ensemble.dtimestep*step/system.TIMECONV,\n",
    "                    'mass': atom,\n",
    "                    'x': system.rx[i]/system.ACONV,\n",
    "                    'y': system.ry[i]/system.ACONV,\n",
    "                    'z': system.rz[i]/system.ACONV})\n",
    "            #print(f'Step: {i_step}; Energy: {system.epotential*system.ECONV}')\n",
    "#\n",
    "end = time.time()\n",
    "print(f'Elapsed time: {end - start} seconds')"
   ]
  },
  {
   "cell_type": "code",
   "execution_count": null,
   "metadata": {},
   "outputs": [],
   "source": [
    "import matplotlib.pyplot as plt\n",
    "import numpy as np\n",
    "dataset = np.loadtxt(\"thermodynamics.csv\", dtype=np.float32, delimiter = \",\", skiprows=1)\n",
    "time = [item[0].item() for item in dataset]\n",
    "vol = [item[1].item() for item in dataset]\n",
    "temp = [item[2].item() for item in dataset]\n",
    "epot = [item[3].item() for item in dataset]\n",
    "press = [item[4].item() for item in dataset]\n",
    "#plt.plot(time, temp)\n",
    "fig, axs = plt.subplots(2, 2)\n",
    "axs[0, 0].plot(time, vol)\n",
    "axs[0, 0].set_title(\"Volume (A^3)\")\n",
    "axs[0, 1].plot(time, temp)\n",
    "axs[0, 1].set_title(\"Temperatura (K)\")\n",
    "axs[1, 0].plot(time, epot)\n",
    "axs[1, 0].set_title(\"Energia Potencial (kcal/mol)\")\n",
    "axs[1, 1].plot(time, press)\n",
    "axs[1, 1].set_title(\"Pressão (atm)\")\n",
    "fig.tight_layout()\n",
    "for ax in axs.flat:\n",
    "    ax.set(xlabel='Tempo (ps)')\n",
    "\n",
    "# Hide x labels and tick labels for top plots and y ticks for right plots.\n",
    "#for ax in axs.flat:\n",
    "#    ax.label_outer()\n",
    "plt.savefig(\"MD.jpg\")"
   ]
  },
  {
   "cell_type": "code",
   "execution_count": null,
   "metadata": {},
   "outputs": [],
   "source": [
    "system.convertUnitsInv()\n",
    "system.save('system_teste.json')"
   ]
  },
  {
   "cell_type": "code",
   "execution_count": null,
   "metadata": {},
   "outputs": [],
   "source": [
    "#system.save('system_teste2.json')"
   ]
  }
 ],
 "metadata": {
  "kernelspec": {
   "display_name": "Python 3 (ipykernel)",
   "language": "python",
   "name": "python3"
  },
  "language_info": {
   "codemirror_mode": {
    "name": "ipython",
    "version": 3
   },
   "file_extension": ".py",
   "mimetype": "text/x-python",
   "name": "python",
   "nbconvert_exporter": "python",
   "pygments_lexer": "ipython3",
   "version": "3.13.2"
  }
 },
 "nbformat": 4,
 "nbformat_minor": 4
}

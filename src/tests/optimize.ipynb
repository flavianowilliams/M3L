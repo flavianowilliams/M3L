{
 "cells": [
  {
   "cell_type": "code",
   "execution_count": 1,
   "id": "a3a60530-2800-4619-93b9-ff536c4900fe",
   "metadata": {},
   "outputs": [],
   "source": [
    "# carregando sistema físico\n",
    "from m3l.structure import System as sys\n",
    "import json\n",
    "#\n",
    "system = sys()\n",
    "system.loadSystem('system_new.json')\n",
    "system.convertUnits()\n",
    "#system.save('system_au.json')\n",
    "#system.convertUnitsInv()\n",
    "#system.atoms\n",
    "#system.cell"
   ]
  },
  {
   "cell_type": "code",
   "execution_count": 2,
   "id": "a36f8344-64b3-40c3-8d14-eaace2826de6",
   "metadata": {},
   "outputs": [
    {
     "data": {
      "text/plain": [
       "array([3.80242275e-04, 6.43451746e+00, 1.88972613e+01])"
      ]
     },
     "execution_count": 2,
     "metadata": {},
     "output_type": "execute_result"
    }
   ],
   "source": [
    "# definindo o modelo de interação entre os átomos (campo de força)\n",
    "from m3l.molecular_dynamics import ForceField\n",
    "class Forces(ForceField):\n",
    "    def __init__(self):\n",
    "        super().__init__()\n",
    "        self.parameters((0.2385/self.ECONV, 3.405/self.ACONV, 10.0/self.ACONV))\n",
    "\n",
    "model = Forces()\n",
    "model()"
   ]
  },
  {
   "cell_type": "code",
   "execution_count": 3,
   "id": "7fa0609f-f48b-4865-bda5-baa80550efe7",
   "metadata": {},
   "outputs": [],
   "source": [
    "# Definindo método de otimização\n",
    "from m3l.optimize import Optimize as optim\n",
    "#\n",
    "opt = optim(model(), learning_rate = 1.e-3)"
   ]
  },
  {
   "cell_type": "code",
   "execution_count": 4,
   "id": "412611eb-3523-44e7-8ab0-5bb2f237ffb8",
   "metadata": {},
   "outputs": [
    {
     "name": "stdout",
     "output_type": "stream",
     "text": [
      "Elapsed time: 55.91091704368591\n"
     ]
    }
   ],
   "source": [
    "# executando looping\n",
    "import time\n",
    "import csv\n",
    "#\n",
    "n_steps = 10000\n",
    "start = time.time()\n",
    "with open('optimize.csv', 'w', newline = '') as csvfile:\n",
    "    fieldnames = ['step', 'energy']\n",
    "    writer = csv.DictWriter(csvfile, fieldnames = fieldnames)\n",
    "    writer.writeheader()\n",
    "    for step in range(1, n_steps+1):\n",
    "        system = opt.SD(system)\n",
    "        writer.writerow({\n",
    "            'step': step,\n",
    "            'energy': system.epotential*system.ECONV})\n",
    "#\n",
    "end = time.time()\n",
    "print(f'Elapsed time: {end - start}')"
   ]
  },
  {
   "cell_type": "code",
   "execution_count": 5,
   "id": "89e5b770-134d-4f70-9f47-abbf9569c77d",
   "metadata": {},
   "outputs": [
    {
     "data": {
      "image/png": "[encoded data removed]",
      "text/plain": [
       "<Figure size 640x480 with 1 Axes>"
      ]
     },
     "metadata": {},
     "output_type": "display_data"
    }
   ],
   "source": [
    "import matplotlib.pyplot as plt\n",
    "import numpy as np\n",
    "dataset = np.loadtxt(\"optimize.csv\", dtype=np.float32, delimiter = \",\", skiprows=1)\n",
    "x_list = [item[0].item() for item in dataset]\n",
    "y_list = [item[1].item() for item in dataset]\n",
    "plt.plot(x_list, y_list)\n",
    "plt.ylabel('Energia')\n",
    "#plt.ylim(0,1e28)\n",
    "plt.show()"
   ]
  },
  {
   "cell_type": "code",
   "execution_count": 6,
   "id": "28272c67-fcb0-4840-a7fb-95a46bdc0933",
   "metadata": {},
   "outputs": [],
   "source": [
    "system.convertUnitsInv()\n",
    "system.save('system_new.json')"
   ]
  }
 ],
 "metadata": {
  "kernelspec": {
   "display_name": "Python 3 (ipykernel)",
   "language": "python",
   "name": "python3"
  },
  "language_info": {
   "codemirror_mode": {
    "name": "ipython",
    "version": 3
   },
   "file_extension": ".py",
   "mimetype": "text/x-python",
   "name": "python",
   "nbconvert_exporter": "python",
   "pygments_lexer": "ipython3",
   "version": "3.13.2"
  }
 },
 "nbformat": 4,
 "nbformat_minor": 5
}

{
 "cells": [
  {
   "cell_type": "code",
   "execution_count": 1,
   "metadata": {},
   "outputs": [],
   "source": [
    "# carregando sistema físico\n",
    "from m3l.structure import System as sys\n",
    "import json\n",
    "#\n",
    "system = sys()\n",
    "system.loadSystem('system_new.json')\n",
    "system.convertUnits()\n",
    "system.save('system_au.json')\n",
    "#system.convertUnitsInv()\n",
    "#system.atoms\n",
    "#system.cell"
   ]
  },
  {
   "cell_type": "code",
   "execution_count": 2,
   "metadata": {},
   "outputs": [
    {
     "data": {
      "text/plain": [
       "array([ 0.20040442,  6.32113389, 18.89726125])"
      ]
     },
     "execution_count": 2,
     "metadata": {},
     "output_type": "execute_result"
    }
   ],
   "source": [
    "# definindo o modelo de interação entre os átomos (campo de força)\n",
    "from m3l.molecular_dynamics import ForceField\n",
    "class Forces(ForceField):\n",
    "    def __init__(self):\n",
    "        super().__init__()\n",
    "        self.parameters((125.7/self.ECONV, 3.345/self.ACONV, 10.0/self.ACONV))\n",
    "\n",
    "model = Forces()\n",
    "model()"
   ]
  },
  {
   "cell_type": "code",
   "execution_count": 3,
   "metadata": {},
   "outputs": [
    {
     "data": {
      "text/plain": [
       "<m3l.structure.System2 at 0x7fdb3028fda0>"
      ]
     },
     "execution_count": 3,
     "metadata": {},
     "output_type": "execute_result"
    }
   ],
   "source": [
    "# definindo o modelo estatístico (ensemble)\n",
    "from m3l.molecular_dynamics import Ensemble as en\n",
    "#\n",
    "temperature = 0.0\n",
    "temperature = temperature/system.TEMPCONV\n",
    "pressure = 1.0\n",
    "timestep = 1.0e-5\n",
    "timestep = timestep/system.TIMECONV\n",
    "force_field = model()\n",
    "tstat = 2/system.TIMECONV\n",
    "ensemble = en(temperature, pressure, timestep, force_field, tstat = tstat)\n",
    "ensemble(system)\n",
    "#system.save('system_new.json')"
   ]
  },
  {
   "cell_type": "code",
   "execution_count": 4,
   "metadata": {},
   "outputs": [],
   "source": [
    "# Definindo método de otimização\n",
    "from m3l.optimize import Optimize as optim\n",
    "#\n",
    "opt = optim(model(), learning_rate = 1.e-3)"
   ]
  },
  {
   "cell_type": "code",
   "execution_count": 5,
   "metadata": {},
   "outputs": [
    {
     "ename": "KeyboardInterrupt",
     "evalue": "",
     "output_type": "error",
     "traceback": [
      "\u001b[0;31m---------------------------------------------------------------------------\u001b[0m",
      "\u001b[0;31mKeyboardInterrupt\u001b[0m                         Traceback (most recent call last)",
      "Cell \u001b[0;32mIn[5], line 17\u001b[0m\n\u001b[1;32m     15\u001b[0m \u001b[38;5;28;01mfor\u001b[39;00m step \u001b[38;5;129;01min\u001b[39;00m \u001b[38;5;28mrange\u001b[39m(n_steps):\n\u001b[1;32m     16\u001b[0m     em \u001b[38;5;241m=\u001b[39m system\u001b[38;5;241m.\u001b[39mepotential\n\u001b[0;32m---> 17\u001b[0m     system \u001b[38;5;241m=\u001b[39m \u001b[43mensemble\u001b[49m\u001b[43m(\u001b[49m\u001b[43msystem\u001b[49m\u001b[43m)\u001b[49m\n\u001b[1;32m     18\u001b[0m     en \u001b[38;5;241m=\u001b[39m system\u001b[38;5;241m.\u001b[39mepotential\n\u001b[1;32m     19\u001b[0m     \u001b[38;5;28;01mif\u001b[39;00m (en\u001b[38;5;241m-\u001b[39mem)\u001b[38;5;241m*\u001b[39msystem\u001b[38;5;241m.\u001b[39mECONV \u001b[38;5;241m>\u001b[39m \u001b[38;5;241m1.0e2\u001b[39m:\n",
      "File \u001b[0;32m~/.pyenv/versions/Notebooks/lib/python3.12/site-packages/m3l/molecular_dynamics.py:181\u001b[0m, in \u001b[0;36mEnsemble.__call__\u001b[0;34m(self, system)\u001b[0m\n\u001b[1;32m    179\u001b[0m \u001b[38;5;28mself\u001b[39m\u001b[38;5;241m.\u001b[39mhook(system)\n\u001b[1;32m    180\u001b[0m \u001b[38;5;28;01mif\u001b[39;00m \u001b[38;5;28mself\u001b[39m\u001b[38;5;241m.\u001b[39mtstat:\n\u001b[0;32m--> 181\u001b[0m     \u001b[38;5;28;43mself\u001b[39;49m\u001b[38;5;241;43m.\u001b[39;49m\u001b[43mnvt_verlet\u001b[49m\u001b[43m(\u001b[49m\u001b[43m)\u001b[49m\n\u001b[1;32m    182\u001b[0m \u001b[38;5;28;01melse\u001b[39;00m:\n\u001b[1;32m    183\u001b[0m     \u001b[38;5;28mself\u001b[39m\u001b[38;5;241m.\u001b[39mnve_verlet()\n",
      "File \u001b[0;32m~/.pyenv/versions/Notebooks/lib/python3.12/site-packages/m3l/molecular_dynamics.py:137\u001b[0m, in \u001b[0;36mEnsemble.nvt_verlet\u001b[0;34m(self)\u001b[0m\n\u001b[1;32m    135\u001b[0m atom[\u001b[38;5;241m3\u001b[39m] \u001b[38;5;241m=\u001b[39m np\u001b[38;5;241m.\u001b[39marray(libs\u001b[38;5;241m.\u001b[39mrz[i])\n\u001b[1;32m    136\u001b[0m atom[\u001b[38;5;241m4\u001b[39m] \u001b[38;5;241m=\u001b[39m np\u001b[38;5;241m.\u001b[39marray(libs\u001b[38;5;241m.\u001b[39mvx[i])\n\u001b[0;32m--> 137\u001b[0m atom[\u001b[38;5;241m5\u001b[39m] \u001b[38;5;241m=\u001b[39m \u001b[43mnp\u001b[49m\u001b[38;5;241;43m.\u001b[39;49m\u001b[43marray\u001b[49m\u001b[43m(\u001b[49m\u001b[43mlibs\u001b[49m\u001b[38;5;241;43m.\u001b[39;49m\u001b[43mvy\u001b[49m\u001b[43m[\u001b[49m\u001b[43mi\u001b[49m\u001b[43m]\u001b[49m\u001b[43m)\u001b[49m\n\u001b[1;32m    138\u001b[0m atom[\u001b[38;5;241m6\u001b[39m] \u001b[38;5;241m=\u001b[39m np\u001b[38;5;241m.\u001b[39marray(libs\u001b[38;5;241m.\u001b[39mvz[i])\n\u001b[1;32m    139\u001b[0m atom[\u001b[38;5;241m7\u001b[39m] \u001b[38;5;241m=\u001b[39m np\u001b[38;5;241m.\u001b[39marray(libs\u001b[38;5;241m.\u001b[39mfx[i])\n",
      "\u001b[0;31mKeyboardInterrupt\u001b[0m: "
     ]
    }
   ],
   "source": [
    "# executando looping\n",
    "import time\n",
    "import csv\n",
    "#\n",
    "n_steps = 100000\n",
    "i_step = 0\n",
    "start = time.time()\n",
    "with open('history.csv', 'w', newline = '') as csvfile1, open('thermodynamics.csv', 'w', newline = '') as csvfile2:\n",
    "    fieldnames1 = ['time', 'atom', 'x', 'y', 'z']\n",
    "    writer1 = csv.DictWriter(csvfile1, fieldnames = fieldnames1)\n",
    "    writer1.writeheader()\n",
    "    fieldnames2 = ['time', 'temperature', 'epotential', 'ekinetic']\n",
    "    writer2 = csv.DictWriter(csvfile2, fieldnames = fieldnames2)\n",
    "    writer2.writeheader()\n",
    "    for step in range(n_steps):\n",
    "        em = system.epotential\n",
    "        system = ensemble(system)\n",
    "        en = system.epotential\n",
    "        if (en-em)*system.ECONV > 1.0e2:\n",
    "            for stp in range(20):\n",
    "                system = opt.SD(system)\n",
    "        if step%1000 == 0:\n",
    "            i_step += 1\n",
    "            writer2.writerow({\n",
    "                'time': timestep*step*system.TIMECONV, \n",
    "                'temperature': system.temperature*system.TEMPCONV,\n",
    "                'epotential': system.epotential*system.ECONV,\n",
    "                'ekinetic': system.ekinetic*system.ECONV})\n",
    "            for atom in system.atoms:\n",
    "                writer1.writerow({\n",
    "                    'time': timestep*step*system.TIMECONV,\n",
    "                    'atom': atom[0],\n",
    "                    'x': atom[1]*system.ACONV,\n",
    "                    'y': atom[2]*system.ACONV,\n",
    "                    'z': atom[3]*system.ACONV})\n",
    "#            print(f'Step: {i_step}; Energy: {system.epotential*system.ECONV}')\n",
    "#\n",
    "end = time.time()\n",
    "print(f'Elapsed time: {end - start}')\n",
    "#"
   ]
  },
  {
   "cell_type": "code",
   "execution_count": null,
   "metadata": {
    "scrolled": true,
    "tags": []
   },
   "outputs": [],
   "source": [
    "import matplotlib.pyplot as plt\n",
    "import numpy as np\n",
    "dataset = np.loadtxt(\"thermodynamics.csv\", dtype=np.float32, delimiter = \",\", skiprows=1)\n",
    "x_list = [item[0].item() for item in dataset]\n",
    "y_list = [(item[3].item()+item[2].item()) for item in dataset]\n",
    "plt.plot(x_list, y_list)\n",
    "plt.ylabel('Energia')\n",
    "#plt.ylim(0,1e28)\n",
    "plt.show()"
   ]
  },
  {
   "cell_type": "code",
   "execution_count": null,
   "metadata": {
    "scrolled": true
   },
   "outputs": [],
   "source": [
    "#temp_medio = sum(temp_list)/len(temp_list)\n",
    "dataset = np.loadtxt(\"thermodynamics.csv\", dtype=np.float32, delimiter = \",\", skiprows=1)\n",
    "time = [item[0].item() for item in dataset]\n",
    "temp = [item[1].item() for item in dataset]\n",
    "epot = [item[2].item() for item in dataset]\n",
    "ekin = [item[3].item() for item in dataset] \n",
    "etotal = [(item[2].item()+item[3].item()) for item in dataset] \n",
    "#plt.plot(time, temp)\n",
    "fig, axs = plt.subplots(2, 2)\n",
    "axs[0, 0].plot(time, temp)\n",
    "axs[0, 0].set_title(\"Temperatura (K)\")\n",
    "axs[0, 1].plot(time, epot)\n",
    "axs[0, 1].set_title(\"Energia potencial (kcal/mol)\")\n",
    "axs[1, 0].plot(time, ekin)\n",
    "axs[1, 0].set_title(\"Energia cinética (kcal/mol)\")\n",
    "axs[1, 1].plot(time, etotal)\n",
    "axs[1, 1].set_title(\"Energia total (kcal/mol)\")\n",
    "fig.tight_layout()\n",
    "for ax in axs.flat:\n",
    "    ax.set(xlabel='Tempo (ps)')\n",
    "\n",
    "# Hide x labels and tick labels for top plots and y ticks for right plots.\n",
    "for ax in axs.flat:\n",
    "    ax.label_outer()\n",
    "plt.savefig(\"MD.jpg\")"
   ]
  },
  {
   "cell_type": "code",
   "execution_count": null,
   "metadata": {},
   "outputs": [],
   "source": [
    "system.convertUnitsInv()\n",
    "system.save('system_new.json')\n",
    "print(abs(system.atoms[0][1]-system.atoms[1][1]), system.epotential)"
   ]
  }
 ],
 "metadata": {
  "kernelspec": {
   "display_name": "Python 3 (ipykernel)",
   "language": "python",
   "name": "python3"
  },
  "language_info": {
   "codemirror_mode": {
    "name": "ipython",
    "version": 3
   },
   "file_extension": ".py",
   "mimetype": "text/x-python",
   "name": "python",
   "nbconvert_exporter": "python",
   "pygments_lexer": "ipython3",
   "version": "3.12.7"
  }
 },
 "nbformat": 4,
 "nbformat_minor": 4
}

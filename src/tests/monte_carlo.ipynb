{
 "cells": [
  {
   "cell_type": "code",
   "execution_count": 1,
   "id": "67991b97-70ba-4fea-a6f2-b0232f7efb70",
   "metadata": {},
   "outputs": [],
   "source": [
    "from m3l.structure import System as sys\n",
    "import json\n",
    "#\n",
    "system = sys()\n",
    "system.loadSystem('system_Ar_mc.json')\n",
    "system.convertUnits()\n",
    "system.save('system_au.json')\n",
    "#system.convertUnitsInv()\n",
    "#system.atoms"
   ]
  },
  {
   "cell_type": "code",
   "execution_count": 2,
   "id": "10a941b3-b525-4600-bdfe-93758dcd34cf",
   "metadata": {},
   "outputs": [
    {
     "data": {
      "text/plain": [
       "np.float64(149.29773293309754)"
      ]
     },
     "execution_count": 2,
     "metadata": {},
     "output_type": "execute_result"
    }
   ],
   "source": [
    "0.238/system.ECONV"
   ]
  },
  {
   "cell_type": "code",
   "execution_count": 3,
   "id": "ff85fa3e-8fa0-40da-a9c0-00a60049bed1",
   "metadata": {},
   "outputs": [],
   "source": [
    "# definindo o modelo de interação entre os átomos (campo de força)\n",
    "from m3l.molecular_dynamics import ForceField\n",
    "class Forces(ForceField):\n",
    "    def __init__(self):\n",
    "        super().__init__()\n",
    "        self.parameters((0.2385/self.ECONV, 3.405/self.ACONV, 10.0/self.ACONV))\n",
    "\n",
    "model = Forces()"
   ]
  },
  {
   "cell_type": "code",
   "execution_count": 4,
   "id": "8cfb18e8-b387-45d4-a52b-3da8194472cc",
   "metadata": {},
   "outputs": [],
   "source": [
    "# definindo o modelo estatístico (ensemble)\n",
    "from m3l.statistics import MonteCarlo as mc\n",
    "#\n",
    "temperature = 84.4\n",
    "temperature = temperature/system.TEMPCONV\n",
    "pressure = 1000.0\n",
    "pressure = pressure/system.PCONV\n",
    "drmax=1.0/system.ACONV\n",
    "dvmax=0.0/system.ACONV**3\n",
    "force_field = model()\n",
    "monte_carlo = mc(temperature, pressure, drmax, dvmax, force_field, nadjst = 500)\n",
    "system = monte_carlo(system)\n",
    "#print(system.epotential, tmp.epotential)"
   ]
  },
  {
   "cell_type": "code",
   "execution_count": 5,
   "id": "44585e45-745a-4ab2-a4a2-737cbf07b97c",
   "metadata": {},
   "outputs": [
    {
     "ename": "KeyboardInterrupt",
     "evalue": "",
     "output_type": "error",
     "traceback": [
      "\u001b[0;31m---------------------------------------------------------------------------\u001b[0m",
      "\u001b[0;31mKeyboardInterrupt\u001b[0m                         Traceback (most recent call last)",
      "Cell \u001b[0;32mIn[5], line 19\u001b[0m\n\u001b[1;32m     17\u001b[0m \u001b[38;5;28;01mfor\u001b[39;00m step \u001b[38;5;129;01min\u001b[39;00m \u001b[38;5;28mrange\u001b[39m(n_steps):\n\u001b[1;32m     18\u001b[0m     chk1 \u001b[38;5;241m=\u001b[39m monte_carlo\u001b[38;5;241m.\u001b[39mnaccpt\n\u001b[0;32m---> 19\u001b[0m     system \u001b[38;5;241m=\u001b[39m \u001b[43mmonte_carlo\u001b[49m\u001b[43m(\u001b[49m\u001b[43msystem\u001b[49m\u001b[43m)\u001b[49m\n\u001b[1;32m     20\u001b[0m     chk2 \u001b[38;5;241m=\u001b[39m monte_carlo\u001b[38;5;241m.\u001b[39mnaccpt\n\u001b[1;32m     21\u001b[0m     drmax\u001b[38;5;241m.\u001b[39mappend(monte_carlo\u001b[38;5;241m.\u001b[39mdrmax)\n",
      "File \u001b[0;32m~/.pyenv/versions/Notebooks/lib/python3.13/site-packages/m3l/statistics.py:146\u001b[0m, in \u001b[0;36mMonteCarlo.__call__\u001b[0;34m(self, system)\u001b[0m\n\u001b[1;32m    144\u001b[0m \u001b[38;5;28;01mdef\u001b[39;00m\u001b[38;5;250m \u001b[39m\u001b[38;5;21m__call__\u001b[39m(\u001b[38;5;28mself\u001b[39m, system):\n\u001b[1;32m    145\u001b[0m     \u001b[38;5;28mself\u001b[39m\u001b[38;5;241m.\u001b[39mhook(system)\n\u001b[0;32m--> 146\u001b[0m     \u001b[38;5;28;43mself\u001b[39;49m\u001b[38;5;241;43m.\u001b[39;49m\u001b[43mmetropolis\u001b[49m\u001b[43m(\u001b[49m\u001b[43m)\u001b[49m\n\u001b[1;32m    147\u001b[0m     output \u001b[38;5;241m=\u001b[39m \u001b[38;5;28mself\u001b[39m\u001b[38;5;241m.\u001b[39mhook_output()\n\u001b[1;32m    148\u001b[0m     \u001b[38;5;28;01mreturn\u001b[39;00m output\n",
      "File \u001b[0;32m~/.pyenv/versions/Notebooks/lib/python3.13/site-packages/m3l/statistics.py:27\u001b[0m, in \u001b[0;36mMonteCarlo.metropolis\u001b[0;34m(self)\u001b[0m\n\u001b[1;32m     25\u001b[0m \u001b[38;5;28;01mdef\u001b[39;00m\u001b[38;5;250m \u001b[39m\u001b[38;5;21mmetropolis\u001b[39m(\u001b[38;5;28mself\u001b[39m):\n\u001b[0;32m---> 27\u001b[0m     de \u001b[38;5;241m=\u001b[39m \u001b[38;5;28;43mself\u001b[39;49m\u001b[38;5;241;43m.\u001b[39;49m\u001b[43menergy\u001b[49m\u001b[43m(\u001b[49m\u001b[43m)\u001b[49m\n\u001b[1;32m     28\u001b[0m     deltvb \u001b[38;5;241m=\u001b[39m de\u001b[38;5;241m/\u001b[39m(\u001b[38;5;28mself\u001b[39m\u001b[38;5;241m.\u001b[39mKB\u001b[38;5;241m*\u001b[39m\u001b[38;5;28mself\u001b[39m\u001b[38;5;241m.\u001b[39mtemp_ext)\n\u001b[1;32m     29\u001b[0m     rnd \u001b[38;5;241m=\u001b[39m np\u001b[38;5;241m.\u001b[39mrandom\u001b[38;5;241m.\u001b[39mrandom_sample()\n",
      "File \u001b[0;32m~/.pyenv/versions/Notebooks/lib/python3.13/site-packages/m3l/statistics.py:112\u001b[0m, in \u001b[0;36mMonteCarlo.energy\u001b[0;34m(self)\u001b[0m\n\u001b[1;32m    109\u001b[0m libs\u001b[38;5;241m.\u001b[39mrz \u001b[38;5;241m=\u001b[39m \u001b[38;5;28mself\u001b[39m\u001b[38;5;241m.\u001b[39mrz\n\u001b[1;32m    110\u001b[0m libs\u001b[38;5;241m.\u001b[39mparams \u001b[38;5;241m=\u001b[39m \u001b[38;5;28mself\u001b[39m\u001b[38;5;241m.\u001b[39mforce_field \n\u001b[0;32m--> 112\u001b[0m \u001b[43mlibs\u001b[49m\u001b[38;5;241;43m.\u001b[39;49m\u001b[43mforces\u001b[49m\u001b[43m(\u001b[49m\u001b[43m)\u001b[49m\n\u001b[1;32m    114\u001b[0m \u001b[38;5;28;01mreturn\u001b[39;00m (libs\u001b[38;5;241m.\u001b[39menergy \u001b[38;5;241m-\u001b[39m \u001b[38;5;28mself\u001b[39m\u001b[38;5;241m.\u001b[39mepotential)\n",
      "\u001b[0;31mKeyboardInterrupt\u001b[0m: "
     ]
    }
   ],
   "source": [
    "# executando looping\n",
    "import time\n",
    "import csv\n",
    "#\n",
    "n_steps = 100000\n",
    "output = []\n",
    "drmax = []\n",
    "indx = 0\n",
    "start = time.time()\n",
    "with open('history.csv', 'w', newline = '') as csvfile1, open('thermodynamics.csv', 'w', newline = '') as csvfile2:\n",
    "    fieldnames1 = ['x', 'y', 'z']\n",
    "    writer1 = csv.DictWriter(csvfile1, fieldnames = fieldnames1)\n",
    "    writer1.writeheader()\n",
    "    fieldnames2 = ['step', 'energy', 'volume']\n",
    "    writer2 = csv.DictWriter(csvfile2, fieldnames = fieldnames2)\n",
    "    writer2.writeheader()\n",
    "    for step in range(n_steps):\n",
    "        chk1 = monte_carlo.naccpt\n",
    "        system = monte_carlo(system)\n",
    "        chk2 = monte_carlo.naccpt\n",
    "        drmax.append(monte_carlo.drmax)\n",
    "        if chk2 != chk1:\n",
    "            volume = system.cell[0]*system.cell[1]*system.cell[2]\n",
    "            volume = volume*system.ACONV**3\n",
    "            energy = system.epotential*system.ECONV\n",
    "            writer2.writerow({\n",
    "                'step': step,\n",
    "                'energy': energy,\n",
    "                'volume': volume})\n",
    "            for atom in system.atoms:\n",
    "                writer1.writerow({\n",
    "                    'x': atom[1]*system.ACONV,\n",
    "                    'y': atom[2]*system.ACONV,\n",
    "                    'z': atom[3]*system.ACONV})\n",
    "            output.append([energy, volume])\n",
    "            indx += 1\n",
    "#        print(f'i: {step}; energy: {system.energy*system.ECONV}')\n",
    "end = time.time()\n",
    "print(f'Elapsed time: {end - start}')\n",
    "print(f'i_step:', indx)"
   ]
  },
  {
   "cell_type": "code",
   "execution_count": null,
   "id": "b31e7fcf-ca27-4542-90b5-f9ca43f8e0a7",
   "metadata": {},
   "outputs": [],
   "source": [
    "# \n",
    "import matplotlib.pyplot as plt\n",
    "import numpy as np\n",
    "x = np.arange(0, n_steps)\n",
    "plt.plot(x, drmax)\n",
    "plt.xlabel('Passo')\n",
    "plt.ylabel('drmax')"
   ]
  },
  {
   "cell_type": "code",
   "execution_count": null,
   "id": "5f6e4ca5-d5ac-4ccf-b2a9-f10aea74a678",
   "metadata": {},
   "outputs": [],
   "source": [
    "x = np.arange(0, indx)\n",
    "fig, axs = plt.subplots(2, 1)\n",
    "data = [item[0] for item in output]\n",
    "axs[0].plot(x, data)\n",
    "#axs[0, 0] = plt.ylabel('Energia (kcal/mol)')\n",
    "#axs[0, 0] = plt.xlabel('Passo')\n",
    "axs[1].hist(data)\n",
    "#axs[0, 0] = plt.savefig('monte_carlo.jpg')"
   ]
  },
  {
   "cell_type": "code",
   "execution_count": null,
   "id": "b2175c37-323b-4dfd-a097-12c1d3a72593",
   "metadata": {},
   "outputs": [],
   "source": [
    "fig, axis = plt.subplots(2, 1)\n",
    "data = [item[1] for item in output]\n",
    "axis[0].plot(x, data)\n",
    "axis[1].hist(data)"
   ]
  },
  {
   "cell_type": "code",
   "execution_count": null,
   "id": "a9a72c04-e5aa-42d7-acfa-22ed7a9a8a48",
   "metadata": {},
   "outputs": [],
   "source": [
    "system.convertUnitsInv()\n",
    "system.save('system_Ar_mc.json')"
   ]
  }
 ],
 "metadata": {
  "kernelspec": {
   "display_name": "Python 3 (ipykernel)",
   "language": "python",
   "name": "python3"
  },
  "language_info": {
   "codemirror_mode": {
    "name": "ipython",
    "version": 3
   },
   "file_extension": ".py",
   "mimetype": "text/x-python",
   "name": "python",
   "nbconvert_exporter": "python",
   "pygments_lexer": "ipython3",
   "version": "3.13.2"
  }
 },
 "nbformat": 4,
 "nbformat_minor": 5
}

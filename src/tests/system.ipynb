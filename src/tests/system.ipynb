{
 "cells": [
  {
   "cell_type": "code",
   "execution_count": 1,
   "id": "6c56d3c7-e70e-4a38-ad1c-d8f0b69153e7",
   "metadata": {},
   "outputs": [],
   "source": [
    "# definindo do sistema físico\n",
    "from m3l.structure import System as sys\n",
    "import json\n",
    "#\n",
    "system = sys()\n",
    "system.setSystem(temperature = 84.4, pressure = 1000.0, cell = [22.5, 22.5, 22.5], xyz_file = 'Ar_gas.xyz')\n",
    "system.save('system_Ar.json')\n",
    "system.convertUnits()"
   ]
  },
  {
   "cell_type": "code",
   "execution_count": 2,
   "id": "dc2a51dc-72ed-4dcb-be5f-fb8128932ea4",
   "metadata": {},
   "outputs": [
    {
     "data": {
      "text/plain": [
       "array([3.80242275e-04, 6.43451745e+00, 2.26767135e+01])"
      ]
     },
     "execution_count": 2,
     "metadata": {},
     "output_type": "execute_result"
    }
   ],
   "source": [
    "# definindo o modelo de interação entre os átomos (campo de força)\n",
    "from m3l.molecular_dynamics import ForceField\n",
    "class Forces(ForceField):\n",
    "    def __init__(self):\n",
    "        super().__init__()\n",
    "#        self.parameters((125.7/(self.ECONV/self.ACONV**2), 1.0/self.ACONV))\n",
    "        self.parameters((0.2385/self.ECONV, 3.405/self.ACONV, 12.0/self.ACONV))\n",
    "#\n",
    "model = Forces()\n",
    "model()"
   ]
  },
  {
   "cell_type": "code",
   "execution_count": 3,
   "id": "e1a9c238-c828-4846-8694-fe474719de43",
   "metadata": {},
   "outputs": [
    {
     "name": "stderr",
     "output_type": "stream",
     "text": [
      "/tmp/ipykernel_8005/3182310801.py:9: RuntimeWarning: overflow encountered in multiply\n",
      "  fmax = fmax*system.ECONV/system.ACONV\n"
     ]
    }
   ],
   "source": [
    "# Definindo método de otimização\n",
    "from m3l.optimize import Optimize as optim\n",
    "#\n",
    "opt = optim(model(), learning_rate = 1.e-2)\n",
    "system = opt.SD(system)\n",
    "fmax = 0.0\n",
    "for atom in system.atoms:\n",
    "    fmax = max(fmax, (atom[7]**2+atom[8]**2+atom[9]**2)**0.5)\n",
    "    fmax = fmax*system.ECONV/system.ACONV\n",
    "#print(fmax)"
   ]
  },
  {
   "cell_type": "code",
   "execution_count": 4,
   "id": "834c23e2-57d2-45a3-8fe8-bc3d3b29cfa0",
   "metadata": {
    "scrolled": true
   },
   "outputs": [],
   "source": [
    "n_steps = 100000\n",
    "istep = 0\n",
    "list_ = []\n",
    "for i in range(n_steps):\n",
    "    system = opt.SD(system)\n",
    "    fmax = 0.0\n",
    "    for atom in system.atoms:\n",
    "        fmax = max(fmax, (atom[7]**2+atom[8]**2+atom[9]**2)**0.5)\n",
    "    if n_steps % 100 == 0:\n",
    "        istep += 1\n",
    "        list_.append(fmax*(system.ECONV/system.ACONV))\n",
    "    #print(f\"Step: {i}; fmax = {fmax}\")"
   ]
  },
  {
   "cell_type": "code",
   "execution_count": 5,
   "id": "a118d14c-ab11-41c4-8c97-dc3b174dec55",
   "metadata": {},
   "outputs": [
    {
     "data": {
      "text/plain": [
       "[<matplotlib.lines.Line2D at 0x7f3b43aa32c0>]"
      ]
     },
     "execution_count": 5,
     "metadata": {},
     "output_type": "execute_result"
    },
    {
     "data": {
      "image/png": "[encoded data removed]",
      "text/plain": [
       "<Figure size 640x480 with 1 Axes>"
      ]
     },
     "metadata": {},
     "output_type": "display_data"
    }
   ],
   "source": [
    "from matplotlib import pyplot as plt\n",
    "plt.plot(range(istep), list_)"
   ]
  },
  {
   "cell_type": "code",
   "execution_count": 6,
   "id": "201c07d6-d499-4520-bc31-ec6bf3aa3272",
   "metadata": {},
   "outputs": [
    {
     "data": {
      "text/plain": [
       "np.float64(15610.114464898874)"
      ]
     },
     "execution_count": 6,
     "metadata": {},
     "output_type": "execute_result"
    }
   ],
   "source": [
    "system.convertUnitsInv()\n",
    "system.save('system_Ar_opt.json')\n",
    "system.epotential"
   ]
  }
 ],
 "metadata": {
  "kernelspec": {
   "display_name": "Python 3 (ipykernel)",
   "language": "python",
   "name": "python3"
  },
  "language_info": {
   "codemirror_mode": {
    "name": "ipython",
    "version": 3
   },
   "file_extension": ".py",
   "mimetype": "text/x-python",
   "name": "python",
   "nbconvert_exporter": "python",
   "pygments_lexer": "ipython3",
   "version": "3.12.7"
  }
 },
 "nbformat": 4,
 "nbformat_minor": 5
}

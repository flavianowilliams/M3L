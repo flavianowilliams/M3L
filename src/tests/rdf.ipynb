{
 "cells": [
  {
   "cell_type": "code",
   "execution_count": 1,
   "id": "104df171-83b7-4748-9a32-b93e63f17219",
   "metadata": {},
   "outputs": [
    {
     "ename": "ValueError",
     "evalue": "cannot reshape array of size 232500 into shape (306,250,3)",
     "output_type": "error",
     "traceback": [
      "\u001b[0;31m---------------------------------------------------------------------------\u001b[0m",
      "\u001b[0;31mValueError\u001b[0m                                Traceback (most recent call last)",
      "Cell \u001b[0;32mIn[1], line 5\u001b[0m\n\u001b[1;32m      3\u001b[0m dataset \u001b[38;5;241m=\u001b[39m np\u001b[38;5;241m.\u001b[39mloadtxt(\u001b[38;5;124m\"\u001b[39m\u001b[38;5;124mhistory.csv\u001b[39m\u001b[38;5;124m\"\u001b[39m, dtype\u001b[38;5;241m=\u001b[39mnp\u001b[38;5;241m.\u001b[39mfloat32, delimiter \u001b[38;5;241m=\u001b[39m \u001b[38;5;124m\"\u001b[39m\u001b[38;5;124m,\u001b[39m\u001b[38;5;124m\"\u001b[39m, skiprows\u001b[38;5;241m=\u001b[39m\u001b[38;5;241m1\u001b[39m)\n\u001b[1;32m      4\u001b[0m dataset \u001b[38;5;241m=\u001b[39m dataset[:, \u001b[38;5;241m2\u001b[39m:\u001b[38;5;241m5\u001b[39m]\n\u001b[0;32m----> 5\u001b[0m xyz \u001b[38;5;241m=\u001b[39m \u001b[43mdataset\u001b[49m\u001b[38;5;241;43m.\u001b[39;49m\u001b[43mreshape\u001b[49m\u001b[43m(\u001b[49m\u001b[38;5;241;43m306\u001b[39;49m\u001b[43m,\u001b[49m\u001b[43m \u001b[49m\u001b[38;5;241;43m250\u001b[39;49m\u001b[43m,\u001b[49m\u001b[43m \u001b[49m\u001b[38;5;241;43m3\u001b[39;49m\u001b[43m)\u001b[49m\n\u001b[1;32m      6\u001b[0m shape_ \u001b[38;5;241m=\u001b[39m xyz\u001b[38;5;241m.\u001b[39mshape\n\u001b[1;32m      7\u001b[0m \u001b[38;5;28mprint\u001b[39m(shape_)\n",
      "\u001b[0;31mValueError\u001b[0m: cannot reshape array of size 232500 into shape (306,250,3)"
     ]
    }
   ],
   "source": [
    "import matplotlib.pyplot as plt\n",
    "import numpy as np\n",
    "dataset = np.loadtxt(\"history.csv\", dtype=np.float32, delimiter = \",\", skiprows=1)\n",
    "dataset = dataset[:, 2:5]\n",
    "xyz = dataset.reshape(306, 250, 3)\n",
    "shape_ = xyz.shape\n",
    "print(shape_)\n",
    "r = []\n",
    "for i in range(shape_[0]):\n",
    "    for j1 in range(shape_[1]):\n",
    "        for j2 in range(j1+1, shape_[1]):\n",
    "            x = (xyz[i, j2, 0]-xyz[i, j1, 0])\n",
    "            y = (xyz[i, j2, 1]-xyz[i, j1, 1])\n",
    "            z = (xyz[i, j2, 2]-xyz[i, j1, 2])\n",
    "            dr = np.sqrt(x**2+y**2+z**2)\n",
    "            r.append(dr.item())"
   ]
  },
  {
   "cell_type": "code",
   "execution_count": null,
   "id": "94508a8b-a760-491f-a0c0-4505367c8f47",
   "metadata": {},
   "outputs": [],
   "source": [
    "dr = 0.5\n",
    "gr = []\n",
    "nx = int(float(max(r))/dr)\n",
    "rl = [dr*i for i in range(1, nx)]\n",
    "for drl in rl:\n",
    "    count = 0\n",
    "    for item in r:\n",
    "        if item > drl and item <= drl+dr:\n",
    "            count += 1\n",
    "    gr.append(count/(4*3.14*drl*dr))"
   ]
  },
  {
   "cell_type": "code",
   "execution_count": null,
   "id": "f49f9ecd-0ffb-4527-a165-b07281b2f9f6",
   "metadata": {},
   "outputs": [],
   "source": [
    "from matplotlib import pyplot as plt\n",
    "plt.plot(rl, gr)\n",
    "plt.ylabel('RDF')\n",
    "plt.xlabel('r')\n",
    "#plt.xlim(0, 30)"
   ]
  }
 ],
 "metadata": {
  "kernelspec": {
   "display_name": "Python 3 (ipykernel)",
   "language": "python",
   "name": "python3"
  },
  "language_info": {
   "codemirror_mode": {
    "name": "ipython",
    "version": 3
   },
   "file_extension": ".py",
   "mimetype": "text/x-python",
   "name": "python",
   "nbconvert_exporter": "python",
   "pygments_lexer": "ipython3",
   "version": "3.12.7"
  }
 },
 "nbformat": 4,
 "nbformat_minor": 5
}

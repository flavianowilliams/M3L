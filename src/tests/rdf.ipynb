{
 "cells": [
  {
   "cell_type": "code",
   "execution_count": 1,
   "id": "104df171-83b7-4748-9a32-b93e63f17219",
   "metadata": {
    "scrolled": true
   },
   "outputs": [],
   "source": [
    "import numpy as np\n",
    "import time\n",
    "#\n",
    "start = time.time()\n",
    "rep = 500\n",
    "natom = 250\n",
    "dataset = np.loadtxt(\"history.csv\", dtype = np.float32, delimiter = \",\", skiprows=1)\n",
    "dataset = dataset[:natom*rep, 0:3]\n",
    "xyz = np.reshape(dataset, (rep, natom, 3))\n",
    "#print(xyz)\n",
    "volume_df = np.loadtxt(\"thermodynamics.csv\", dtype = np.float32, delimiter = \",\", skiprows = 1)\n",
    "volume_df = volume_df[:natom*rep, 2]\n",
    "#print(volume_df)"
   ]
  },
  {
   "cell_type": "code",
   "execution_count": 2,
   "id": "90b50afe-5a8f-401c-9803-2c74f6026ec3",
   "metadata": {},
   "outputs": [],
   "source": [
    "from m3l.structure import System as sys\n",
    "import json\n",
    "#\n",
    "system = sys()\n",
    "system.loadSystem('system_new.json')\n",
    "cell = [item.item() for item in system.cell]"
   ]
  },
  {
   "cell_type": "code",
   "execution_count": 3,
   "id": "326516ec-ff65-45af-afb0-283b5fb2e58d",
   "metadata": {},
   "outputs": [],
   "source": [
    "def mic(x, y, z):\n",
    "    x = x - cell[0]*int(2.0*x/cell[0])\n",
    "    y = y - cell[1]*int(2.0*y/cell[1])\n",
    "    z = z - cell[2]*int(2.0*z/cell[2])\n",
    "    dr = np.sqrt(x**2+y**2+z**2)\n",
    "    return(dr.item())\n",
    "\n",
    "r = []\n",
    "for i in range(rep):\n",
    "    dr = []\n",
    "    for j in range(natom):\n",
    "        for k in range(j+1, natom):\n",
    "            x = (xyz[i, k, 0]-xyz[i, j, 0])\n",
    "            y = (xyz[i, k, 1]-xyz[i, j, 1])\n",
    "            z = (xyz[i, k, 2]-xyz[i, j, 2])\n",
    "            dr.append(mic(x, y, z))\n",
    "        r.append(dr)\n",
    "#            var = np.sqrt(x**2+y**2+z**2)\n",
    "#            r.append(var.item())"
   ]
  },
  {
   "cell_type": "code",
   "execution_count": 4,
   "id": "94508a8b-a760-491f-a0c0-4505367c8f47",
   "metadata": {},
   "outputs": [
    {
     "name": "stdout",
     "output_type": "stream",
     "text": [
      "Elapsed time: 724.5796387195587\n"
     ]
    }
   ],
   "source": [
    "rl0 = 2.0\n",
    "rlmax = 12\n",
    "dr = 0.1\n",
    "nx = int((rlmax-rl0)/dr)\n",
    "dr = (rlmax-rl0)/float(nx)\n",
    "rl = np.linspace(rl0, rlmax, num = nx)\n",
    "nl = int(0.5*natom*(natom-1))\n",
    "gr = []\n",
    "#for dri in rl:\n",
    "#    count = 0\n",
    "#    for item in r:\n",
    "#        if item > (dri-0.5*dr) and item <= (dri+0.5*dr):\n",
    "#            count += 2\n",
    "#    vol = (4*3.14*((dri+0.5*dr)**3-(dri-0.5*dr)**3))/3.0\n",
    "#    gr.append(count*cell[0]*cell[1]*cell[2]/(rep*natom*natom*vol))\n",
    "for dri in rl:\n",
    "    sum_ = 0.0\n",
    "    for i in range(rep):\n",
    "        count = 0\n",
    "        for j in range(nl):\n",
    "            if r[i][j] > (dri-0.5*dr) and r[i][j] <= (dri+0.5*dr):\n",
    "                count += 2\n",
    "        vol = (4*3.14*((dri+0.5*dr)**3-(dri-0.5*dr)**3))/3.0\n",
    "        sum_ += count*volume_df[i]/(natom*natom*vol)\n",
    "    gr.append(sum_/rep)\n",
    "#\n",
    "end = time.time()\n",
    "print(f'Elapsed time: {end - start}')"
   ]
  },
  {
   "cell_type": "code",
   "execution_count": 5,
   "id": "e6a32a74-c984-4e81-b47c-85d62591513b",
   "metadata": {},
   "outputs": [],
   "source": [
    "# dados experimentais\n",
    "xl = [3.211, 3.309, 3.374, 3.52, 3.634, 3.747, 3.894, 4.04, 4.267, 4.43, 4.836, 5.194, 5.632, 5.957, 6.282, 6.77, 7.111, 7.484, 7.842, 8.183, 8.459, 8.817, 11.465, 12.001]\n",
    "yl = [0.042, 0.207, 1.056, 2.498, 3.301, 3.347, 2.9, 1.938, 1.444, 1.056, 0.47, 0.503, 0.681, 0.826, 1.016, 1.188, 1.174, 1.069, 0.997, 0.964, 0.944, 0.951, 0.984, 0.997]"
   ]
  },
  {
   "cell_type": "code",
   "execution_count": 6,
   "id": "f49f9ecd-0ffb-4527-a165-b07281b2f9f6",
   "metadata": {},
   "outputs": [
    {
     "data": {
      "text/plain": [
       "Text(0.5, 0, 'r')"
      ]
     },
     "execution_count": 6,
     "metadata": {},
     "output_type": "execute_result"
    },
    {
     "data": {
      "image/png": "[encoded data removed]",
      "text/plain": [
       "<Figure size 640x480 with 1 Axes>"
      ]
     },
     "metadata": {},
     "output_type": "display_data"
    }
   ],
   "source": [
    "from matplotlib import pyplot as plt\n",
    "plt.scatter(xl, yl, marker = '.', color = 'black')\n",
    "plt.plot(rl, np.repeat(1.0, len(rl)), linestyle = 'dashed')\n",
    "plt.plot(rl, gr)\n",
    "plt.ylabel('RDF')\n",
    "plt.xlabel('r')\n",
    "#plt.xlim(rl0, rlmax)"
   ]
  }
 ],
 "metadata": {
  "kernelspec": {
   "display_name": "Python 3 (ipykernel)",
   "language": "python",
   "name": "python3"
  },
  "language_info": {
   "codemirror_mode": {
    "name": "ipython",
    "version": 3
   },
   "file_extension": ".py",
   "mimetype": "text/x-python",
   "name": "python",
   "nbconvert_exporter": "python",
   "pygments_lexer": "ipython3",
   "version": "3.12.7"
  }
 },
 "nbformat": 4,
 "nbformat_minor": 5
}

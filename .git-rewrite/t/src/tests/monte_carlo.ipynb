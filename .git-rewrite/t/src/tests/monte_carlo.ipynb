{
 "cells": [
  {
   "cell_type": "code",
   "execution_count": 1,
   "id": "67991b97-70ba-4fea-a6f2-b0232f7efb70",
   "metadata": {},
   "outputs": [],
   "source": [
    "from m3l.structure import System as sys\n",
    "import json\n",
    "#\n",
    "system = sys()\n",
    "system.loadSystem('system_new.json')\n",
    "system.convertUnits()\n",
    "system.save('system_au.json')\n",
    "#system.convertUnitsInv()\n",
    "#system.atoms"
   ]
  },
  {
   "cell_type": "code",
   "execution_count": 2,
   "id": "ff85fa3e-8fa0-40da-a9c0-00a60049bed1",
   "metadata": {},
   "outputs": [],
   "source": [
    "# definindo o modelo de interação entre os átomos (campo de força)\n",
    "from m3l.molecular_dynamics import ForceField\n",
    "class Forces(ForceField):\n",
    "    def __init__(self):\n",
    "        super().__init__()\n",
    "        self.parameters((125.7/self.ECONV, 3.345/self.ACONV, 9.0/self.ACONV))\n",
    "\n",
    "model = Forces()"
   ]
  },
  {
   "cell_type": "code",
   "execution_count": 3,
   "id": "8cfb18e8-b387-45d4-a52b-3da8194472cc",
   "metadata": {},
   "outputs": [],
   "source": [
    "# definindo o modelo estatístico (ensemble)\n",
    "from m3l.statistics import MonteCarlo as mc\n",
    "#\n",
    "temperature = 298.0\n",
    "temperature = temperature/system.TEMPCONV\n",
    "pressure = 1.0\n",
    "drmax=0.1/system.ACONV\n",
    "dvmax=0.1/system.ACONV**3\n",
    "force_field = model()\n",
    "monte_carlo = mc(temperature, drmax, dvmax, force_field)\n",
    "tmp = monte_carlo(system)\n",
    "#print(system.epotential, tmp.epotential)"
   ]
  },
  {
   "cell_type": "code",
   "execution_count": null,
   "id": "44585e45-745a-4ab2-a4a2-737cbf07b97c",
   "metadata": {},
   "outputs": [],
   "source": [
    "# executando looping\n",
    "import time\n",
    "import csv\n",
    "#\n",
    "n_steps = 100000\n",
    "i_step = 0\n",
    "en = []\n",
    "start = time.time()\n",
    "with open('history.csv', 'w', newline = '') as csvfile1, open('thermodynamics.csv', 'w', newline = '') as csvfile2:\n",
    "    fieldnames1 = ['step', 'atom', 'x', 'y', 'z']\n",
    "    writer1 = csv.DictWriter(csvfile1, fieldnames = fieldnames1)\n",
    "    writer1.writeheader()\n",
    "    fieldnames2 = ['step', 'energy']\n",
    "    writer2 = csv.DictWriter(csvfile2, fieldnames = fieldnames2)\n",
    "    writer2.writeheader()\n",
    "    for step in range(n_steps):\n",
    "        chk1 = monte_carlo.naccpt\n",
    "#        print(system.epotential, '1')\n",
    "        tmp = monte_carlo(system)\n",
    "        chk2 = monte_carlo.naccpt\n",
    "#        print(system.epotential, tmp.epotential, '2')\n",
    "        if chk2 != chk1:\n",
    "            system = tmp\n",
    "            volume = system.cell[0]*system.cell[1]*system.cell[2]\n",
    "            volume = volume*system.ACONV**3\n",
    "            writer2.writerow({\n",
    "                'step': step,\n",
    "                'energy': system.epotential*system.ECONV})\n",
    "            for atom in system.atoms:\n",
    "                writer1.writerow({\n",
    "                    'step': step,\n",
    "                    'atom': atom[0],\n",
    "                    'x': atom[1]*system.ACONV,\n",
    "                    'y': atom[2]*system.ACONV,\n",
    "                    'z': atom[3]*system.ACONV})\n",
    "            en.append(system.epotential*system.ECONV)\n",
    "            i_step += 1\n",
    "#        print(f'i: {step}; energy: {system.energy*system.ECONV}')\n",
    "end = time.time()\n",
    "print(f'Elapsed time: {end - start}')"
   ]
  },
  {
   "cell_type": "code",
   "execution_count": null,
   "id": "5f6e4ca5-d5ac-4ccf-b2a9-f10aea74a678",
   "metadata": {},
   "outputs": [],
   "source": [
    "import matplotlib.pyplot as plt\n",
    "import numpy as np\n",
    "x = np.arange(0, i_step)\n",
    "plt.plot(x, en)\n",
    "plt.ylabel('Energia (kcal/mol)')\n",
    "plt.xlabel('Passo')\n",
    "print(i_step)"
   ]
  },
  {
   "cell_type": "code",
   "execution_count": null,
   "id": "a9a72c04-e5aa-42d7-acfa-22ed7a9a8a48",
   "metadata": {},
   "outputs": [],
   "source": [
    "system.convertUnitsInv()\n",
    "system.save('system_new.json')"
   ]
  }
 ],
 "metadata": {
  "kernelspec": {
   "display_name": "Python 3 (ipykernel)",
   "language": "python",
   "name": "python3"
  },
  "language_info": {
   "codemirror_mode": {
    "name": "ipython",
    "version": 3
   },
   "file_extension": ".py",
   "mimetype": "text/x-python",
   "name": "python",
   "nbconvert_exporter": "python",
   "pygments_lexer": "ipython3",
   "version": "3.12.7"
  }
 },
 "nbformat": 4,
 "nbformat_minor": 5
}
